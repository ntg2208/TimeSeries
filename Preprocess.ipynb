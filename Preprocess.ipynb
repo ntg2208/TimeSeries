{
 "cells": [
  {
   "cell_type": "code",
   "execution_count": null,
   "metadata": {},
   "outputs": [],
   "source": [
    "import numpy as np\n",
    "import pandas as pd\n",
    "import os\n",
    "from tqdm import tqdm \n",
    "\n",
    "categories_path = f'./dataset/item_categories.csv'\n",
    "item_path = f'./dataset/items.csv'\n",
    "shops_path = f'./dataset/shops.csv'\n",
    "train_path = f'./dataset/sales_train.csv'\n",
    "test_path = f'./dataset/test.csv'\n",
    "\n"
   ]
  }
 ],
 "metadata": {
  "language_info": {
   "codemirror_mode": {
    "name": "ipython",
    "version": 3
   },
   "file_extension": ".py",
   "mimetype": "text/x-python",
   "name": "python",
   "nbconvert_exporter": "python",
   "pygments_lexer": "ipython3",
   "version": "3.7.7-final"
  },
  "orig_nbformat": 2,
  "kernelspec": {
   "name": "ntg_venv",
   "display_name": "ntg_venv"
  }
 },
 "nbformat": 4,
 "nbformat_minor": 2
}